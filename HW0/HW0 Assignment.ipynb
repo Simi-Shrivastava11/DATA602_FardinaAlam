{
  "cells": [
    {
      "cell_type": "markdown",
      "metadata": {
        "id": "8LYDGj_k71TU"
      },
      "source": [
        "This assignment is intended to ensure that you are able to edit and submit Jupyter Notebooks.\n",
        "\n",
        "The goal is to write a function to count the frequency of different characters in a given string. For example: character_frequency('google') should return a `dict`: {'g': 2, 'o': 2, 'l': 1, 'e': 1}.\n",
        "\n",
        "There are many tutorials on the web that can show you how to use the Python data structures. Quite a few examples at: https://docs.python.org/3/tutorial/datastructures.html\n",
        "\n",
        "\n",
        "You should edit the function definition below, make sure to press 'Shift + Enter' to execute it, and then execute the two function calls to check that the output is correct."
      ]
    },
    {
      "cell_type": "code",
      "execution_count": 7,
      "metadata": {
        "collapsed": true,
        "id": "oRKnmBO671TY"
      },
      "outputs": [],
      "source": [
        "def character_frequency(s):\n",
        "    ret = dict()\n",
        "    for i in s:\n",
        "      if i in ret:\n",
        "        ret[i] = ret[i] + 1\n",
        "      else:\n",
        "        ret[i] = 1\n",
        "    #ret['0'] = 0\n",
        "    #ret['1'] = 1\n",
        "    return ret"
      ]
    },
    {
      "cell_type": "code",
      "execution_count": 5,
      "metadata": {
        "id": "zcfmj0t371Tc",
        "outputId": "3805a4d9-22f4-4359-a570-f4fde8168322",
        "colab": {
          "base_uri": "https://localhost:8080/"
        }
      },
      "outputs": [
        {
          "output_type": "execute_result",
          "data": {
            "text/plain": [
              "{'g': 2, 'o': 2, 'l': 1, 'e': 1}"
            ]
          },
          "metadata": {},
          "execution_count": 5
        }
      ],
      "source": [
        "character_frequency('google')"
      ]
    },
    {
      "cell_type": "code",
      "execution_count": 6,
      "metadata": {
        "id": "JQp83yO371Td",
        "outputId": "b76cec4c-c907-47c3-dcd0-a85636a86a1c",
        "colab": {
          "base_uri": "https://localhost:8080/"
        }
      },
      "outputs": [
        {
          "output_type": "execute_result",
          "data": {
            "text/plain": [
              "{'T': 1,\n",
              " 'h': 2,\n",
              " 'i': 6,\n",
              " 's': 7,\n",
              " ' ': 15,\n",
              " 'a': 5,\n",
              " 'g': 1,\n",
              " 'n': 6,\n",
              " 'm': 2,\n",
              " 'e': 10,\n",
              " 't': 10,\n",
              " 'd': 4,\n",
              " 'o': 6,\n",
              " 'u': 4,\n",
              " 'r': 3,\n",
              " 'y': 2,\n",
              " 'b': 3,\n",
              " 'l': 1,\n",
              " 'J': 1,\n",
              " 'p': 1,\n",
              " 'N': 1,\n",
              " 'k': 1,\n",
              " '.': 1}"
            ]
          },
          "metadata": {},
          "execution_count": 6
        }
      ],
      "source": [
        "character_frequency('This assignment is intended to ensure that you are able to edit and submit Jupyter Notebooks.')"
      ]
    },
    {
      "cell_type": "markdown",
      "metadata": {
        "id": "fxWX6RSy71Te"
      },
      "source": [
        "In Below, Provide GitHub Repository URL:"
      ]
    },
    {
      "cell_type": "markdown",
      "metadata": {
        "id": "zAz_uoPY71Tf"
      },
      "source": []
    },
    {
      "cell_type": "markdown",
      "metadata": {
        "id": "7-ba2qH-71Tf"
      },
      "source": [
        "In Below, GitHub Page URL:"
      ]
    },
    {
      "cell_type": "markdown",
      "metadata": {
        "id": "HRpmigm971Tg"
      },
      "source": []
    },
    {
      "cell_type": "markdown",
      "metadata": {
        "id": "VV4zFgfO71Th"
      },
      "source": [
        "Below, add the screenshots. You can include additional markdown or text cells if needed."
      ]
    },
    {
      "cell_type": "markdown",
      "metadata": {
        "id": "_lYKW51P71Ti"
      },
      "source": []
    },
    {
      "cell_type": "markdown",
      "metadata": {
        "id": "uQZBU8qj71Ti"
      },
      "source": []
    },
    {
      "cell_type": "markdown",
      "metadata": {
        "id": "6B16915571Tj"
      },
      "source": []
    },
    {
      "cell_type": "markdown",
      "metadata": {
        "id": "Vu-H89IN71Tj"
      },
      "source": []
    }
  ],
  "metadata": {
    "kernelspec": {
      "display_name": "Python 3",
      "language": "python",
      "name": "python3"
    },
    "language_info": {
      "codemirror_mode": {
        "name": "ipython",
        "version": 3
      },
      "file_extension": ".py",
      "mimetype": "text/x-python",
      "name": "python",
      "nbconvert_exporter": "python",
      "pygments_lexer": "ipython3",
      "version": "3.8.6"
    },
    "colab": {
      "provenance": []
    }
  },
  "nbformat": 4,
  "nbformat_minor": 0
}